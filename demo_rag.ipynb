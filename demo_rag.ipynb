{
 "cells": [
  {
   "cell_type": "code",
   "execution_count": 3,
   "id": "2ab5c621-cc07-4f98-8226-9ad44f5c66fb",
   "metadata": {
    "tags": []
   },
   "outputs": [],
   "source": [
    "# pip install langchain langchain_community pypdf PGVector"
   ]
  },
  {
   "cell_type": "markdown",
   "id": "de1fe76e-ac1f-4294-af95-73d7c41c07c6",
   "metadata": {},
   "source": [
    "**Import necessary modules and classes for document loading**"
   ]
  },
  {
   "cell_type": "code",
   "execution_count": 240,
   "id": "55939204-9ffc-4e3b-bfad-1232474fb8e1",
   "metadata": {
    "tags": []
   },
   "outputs": [],
   "source": [
    "from langchain.document_loaders import TextLoader\n",
    "from langchain.text_splitter import RecursiveCharacterTextSplitter\n",
    "from langchain.embeddings import BedrockEmbeddings\n",
    "from langchain.vectorstores.pgvector import PGVector\n",
    "from langchain.docstore.document import Document\n",
    "from db import DB\n",
    "import os"
   ]
  },
  {
   "cell_type": "markdown",
   "id": "c5cc8616-3ee8-42cf-b1d8-7e810b631f29",
   "metadata": {},
   "source": [
    "**Gathering Schema and creating a Document**"
   ]
  },
  {
   "cell_type": "code",
   "execution_count": 246,
   "id": "c33b4482-ab85-43b2-9986-199f25700708",
   "metadata": {
    "tags": []
   },
   "outputs": [],
   "source": [
    "job_id = \"0fee44ac-bd4b-4217-a64d-a7dc33e00186\" \n",
    "\n",
    "with open('schema_as_txt.txt', 'r') as file:\n",
    "    schema_text = file.read().replace(\"$$ID$$\", 'job_id').replace(\"$$VALUE$$\", job_id)\n",
    "\n",
    "sections = schema_text.strip().split(\"\\n\\n\")\n",
    "\n",
    "# Create chunks as Document objects\n",
    "documents = []\n",
    "for section in sections:\n",
    "    documents.append(\n",
    "        Document(metadata={\"source\": \"schema_as_txt.txt\"}, page_content=section.strip())\n",
    "    )\n",
    "\n",
    "data = documents"
   ]
  },
  {
   "cell_type": "markdown",
   "id": "fd69097d-e701-4e90-b336-61f53798f5e1",
   "metadata": {},
   "source": [
    "**Define the collection name for storing embeddings and creating vector DB store instance**"
   ]
  },
  {
   "cell_type": "code",
   "execution_count": 247,
   "id": "fe9b4ce7-7c5b-481d-a89c-fce8f0867187",
   "metadata": {
    "tags": []
   },
   "outputs": [],
   "source": [
    "def cred(db):\n",
    "    return PGVector.connection_string_from_db_params(driver='psycopg2',\n",
    "    user='postgres',\n",
    "    password='Cymonix.1234',\n",
    "    host='test-vec-db-instance-1.czmj15zygnmm.us-west-2.rds.amazonaws.com',\n",
    "    port='5432',\n",
    "    database= db,\n",
    "    )"
   ]
  },
  {
   "cell_type": "code",
   "execution_count": 248,
   "id": "183ea589-f924-4f64-927a-b159a1753187",
   "metadata": {
    "tags": []
   },
   "outputs": [],
   "source": [
    "def create_db_inst(database, c_name, data):\n",
    "# Initialize the text embedding model\n",
    "    embeddings = BedrockEmbeddings()\n",
    "    db = database\n",
    "    CONNECTION_STRING = cred(db)\n",
    "# Create a vector database store instance and populate it with document data and embeddings\n",
    "    return PGVector.from_documents(\n",
    "                                documents=data,\n",
    "                                embedding=embeddings,\n",
    "                                collection_name=c_name,\n",
    "                                connection_string=CONNECTION_STRING\n",
    "                            )"
   ]
  },
  {
   "cell_type": "code",
   "execution_count": 249,
   "id": "63b0d028-fd9d-493b-968d-611810c7f271",
   "metadata": {
    "tags": []
   },
   "outputs": [],
   "source": [
    "database = \"vec-db\"\n",
    "c_name = \"text-schema-2\"\n",
    "data = data \n",
    "\n",
    "db1 = create_db_inst(database, c_name, data)"
   ]
  },
  {
   "cell_type": "code",
   "execution_count": 250,
   "id": "ed35b706-d280-4d6c-b5b5-b2a73dfe7c45",
   "metadata": {
    "tags": []
   },
   "outputs": [],
   "source": [
    "#create or delete database\n",
    "\n",
    "# DB.create_db(database)\n",
    "# DB.drop_db(database)"
   ]
  },
  {
   "cell_type": "code",
   "execution_count": 251,
   "id": "f7b75ae2-88a6-430d-a7bc-c9fc730a7170",
   "metadata": {
    "tags": []
   },
   "outputs": [],
   "source": [
    "question = \"What was the Revenue by Value Stream during the period Q1-2023?\"\n",
    "job_id = \"0fee44ac-bd4b-4217-a64d-a7dc33e00186\""
   ]
  },
  {
   "cell_type": "code",
   "execution_count": 252,
   "id": "5cbfbdd7-2c84-442c-bb02-b6b9495650e9",
   "metadata": {
    "tags": []
   },
   "outputs": [
    {
     "data": {
      "text/plain": [
       "[Document(metadata={'source': 'schema_as_txt.txt'}, page_content='Properties for Node `Value Stream` are:\\n$$creationDate$$ as type STRING,\\n$$Name$$ as type STRING,\\nprogram as type STRING,\\napplication as type STRING.'),\n",
       " Document(metadata={'source': 'schema_as_txt.txt'}, page_content='Following are the Nodes Label:\\n`Sales Partner`,\\n`Sales Order`,\\n`Work Order`,\\n`Customer`,\\n`Part`,\\n`Value Stream`,\\n`Company`,\\n`Shipment Provider`,\\n`Quote`.'),\n",
       " Document(metadata={'source': 'schema_as_txt.txt'}, page_content='Important Note:\\nJOB ID:always include job_id = value in WHERE clause,\\nVALUE STREAM:value stream should always taken as Node propertie of `Work Order` Node, not from the `Value Stream` Node itself,\\nLICENSE PROGRAM:progem should always taken as Node propertie od `Work Order` Node.\\nDATE:date should be taken from node `Work Order`,`ship_date`, If required then create a relationship with node `Work Order`, When ever you useing of datetime, use datetime(\\'2023-01-01T00:00:00\\'), but don\\'t use datetime(w.`ship_date`), ensure that datetime conditions always include both a starting and an ending time in the WHERE clause. The datetime comparison should use this format: AND wo.`ship_date` >= datetime(\\'YYYY-MM-DDTHH:MM:SS\\') AND wo.`ship_date` < datetime(\\'YYYY-MM-DDTHH:MM:SS\\')\\nREVENUE:Revenue is the total money a company earns from sales before subtracting costs. Always take revenue from node `Work Order`, If required then create a relationship with node `Work Order`,\\nCALIBRATION JOBS:Calibration jobs ensure measuring equipment is accurate and meets required standards Always take calibration from Node `Part`, `part_description` and always take part_description in toLower(), create a relation as \\'Node `Customer` is connected to Node `Sales Order` via Edge `places`,Node `Sales Order` is connected to Node `Work Order` via Edge `results to`, Node `Work Order` is connected to Node `Part` via Edge `produces`\\',do not use COUNT(CASE ) for calibration.\\nTIRE CAGE PARTS:tire cage is a Node property value of Node Property `part_description` in Node `Part`, so create relation that \\'Node `Work Order` is connected to Node `Part` via Edge `produces`\\',\\nSALES PARTNER:sales partner should have a relationship like \"Node `Sales Partner` is connected to Node `Quote` via Edge `creates`,Node `Quote` is connected to Node `Sales Order` via Edge `converted to`, Node `Sales Order` is connected to Node `Work Order` via Edge `results to`,\"\\nJOB_ID:always add job_id = \"0fee44ac-bd4b-4217-a64d-a7dc33e00186\" in WHERE clause.\\nBACKTIC:always add ` ` Backtic to Node Label and Edge Label, Example: (w.`Work Order`),[:`result to`], don\\'t add backtick to job_id.\\nPERCENT:Ensure that when calculating percentages, both the numerator (specific condition count) and denominator (total count) are computed within the same MATCH statement, use COUNT(CASE WHEN ...) for selective counting of specific conditions without limiting the overall result set. Avoid using the WHERE clause to filter unless it\\'s part of the query logic, and never use SQL-style subqueries (SELECT count(aliase)). Always calculate totals and specific condition counts in a single MATCH statement and use toFloat() when calculating percentages, ensure that conditions for counting specific subsets (e.g., job_ship_qty < 6 and job_ship_qty = 1, etc) are placed inside CASE statements for conditional aggregation and when counting for total_jobs use w.Examle: COUNT(W),\\nTOLOWER:For properties like market__description and part_description only use string functions like toLower(). Example: toLower(w.`market__description`) \\nCONDITION:Always use \\'mil\\' instead of \\'military\\' while using CONTAINS.'),\n",
       " Document(metadata={'source': 'schema_as_txt.txt'}, page_content='Following are the Node Name:\\nNode Name of `Sales Partner` is `Sales Partner`,\\nNode Name of `Sales Order` is `Sales Order`,\\nNode Name of `Work Order` is `Work Order`,\\nNode Name of `Customer` is `Customer`,\\nNode Name of `Part` is `Part`,\\nNode Name of `Value Stream` is `Value Stream`,\\nNode Name of `Company` is `Company`,\\nNode Name of `Shipment Provider` is `Shipment Provider`,\\nNode Name of `Quote` is `Quote`.'),\n",
       " Document(metadata={'source': 'schema_as_txt.txt'}, page_content='Relationships are defined as follows:\\nNode `Customer` is connected to Node `Sales Partner` via Edge `requests quote`,\\nNode `Company` is connected to Node `Customer` via Edge `services`,\\nNode `Company` is connected to Node `Sales Partner` via Edge `employees`,\\nNode `Company` is connected to Node `Value Stream` via Edge measured by,\\nNode `Sales Partner` is connected to Node `Quote` via Edge `creates`,\\nNode `Value Stream` is connected to Node `Sales Order` via Edge `associated to`,\\nNode `Sales Order` is connected to Node `Part` via Edge `contains`,\\nNode `Sales Order` is connected to Node `Work Order` via Edge `results to`,\\nNode `Work Order` is connected to Node `Part` via Edge `produces`,\\nNode `Work Order` is connected to Node `Shipment Provider` via Edge `delivers to`,\\nNode `Shipment Provider` is connected to Node `Customer` via Edge `ships to`,\\nNode `Quote` is connected to Node `Sales Order` via Edge `converted to`,\\nNode `Customer` is connected to Node `Sales Order` via Edge `places`,\\nNode `Quote` is connected to Node `Customer` via Edge `send to`.'),\n",
       " Document(metadata={'source': 'schema_as_txt.txt'}, page_content='Properties for Node `Sales Partner` are:\\n$$creationDate$$ as type STRING,\\n$$Name$$ as type STRING.'),\n",
       " Document(metadata={'source': 'schema_as_txt.txt'}, page_content='Properties for Node `Work Order` are:\\n$$creationDate$$ as type STRING,\\n$$Name$$ as type STRING,\\njob_ship_qty as type INTEGER,\\nline as type STRING,\\nship_month as type STRING,\\norder_line as type STRING,\\nvalue_stream as type STRING,\\nunit_price as type FLOAT,\\norder_rel as type STRING,\\npack_ots_state as type STRING,\\nmarket__description as type STRING,\\njob_analysis_code as type STRING,\\ntracking_number as type STRING,\\njob as type STRING,\\nrevenue as type FLOAT,\\nlateshipments as type STRING,\\nprogram as type STRING,\\ncommit_date_line as type STRING,\\nship_date as type DATE,\\ncommit_date_rel as type STRING,\\nuse_ots as type STRING,\\nrelative_ship_by as type STRING,\\nship_year as type STRING,\\nneed_by as type STRING.'),\n",
       " Document(metadata={'source': 'schema_as_txt.txt'}, page_content='Following are the Edges Label:\\n`requests quote`,\\n`services`,\\n`employees`,\\n`measured by`,\\n`creates`,\\n`associated to`,\\n`contains`,\\n`results to`,\\n`produces`,\\n`delivers to`,\\n`ships to`,\\n`converted to`,\\n`places`,\\n`send to`.'),\n",
       " Document(metadata={'source': 'schema_as_txt.txt'}, page_content='Properties for Node `Shipment Provider` are:\\n$$creationDate$$ as type STRING,\\n$$Name$$ as type STRING,\\npack_ots_state as type STRING,\\nuse_ots as type STRING,\\npack_line as type STRING,\\npacking_slip as type STRING.')]"
      ]
     },
     "execution_count": 252,
     "metadata": {},
     "output_type": "execute_result"
    }
   ],
   "source": [
    "retriever= db1.as_retriever(search_type=\"mmr\", search_kwargs={'k': 9, 'lambda_mult': 0.5})\n",
    "matched_docs = retriever.get_relevant_documents(query=question)\n",
    "matched_docs"
   ]
  },
  {
   "cell_type": "markdown",
   "id": "4b7bd8de-cfb0-495e-8ae6-1475eb4e674f",
   "metadata": {},
   "source": [
    "**retrieval chain with the language model and database retriever**"
   ]
  },
  {
   "cell_type": "code",
   "execution_count": 342,
   "id": "3c880c81-496c-4455-a386-835addbd1031",
   "metadata": {
    "tags": []
   },
   "outputs": [],
   "source": [
    "from langchain_community.chat_models import BedrockChat\n",
    "from langchain.chains import RetrievalQA\n",
    "from langchain.prompts import PromptTemplate\n",
    "import boto3\n",
    "import json\n",
    "\n",
    "def create_chain(db, question, job_id):\n",
    "    # Initialize the Bedrock client using boto3\n",
    "    client = boto3.client(\n",
    "        service_name=\"bedrock-runtime\", region_name=\"us-west-2\"\n",
    "    )\n",
    "\n",
    "    model_id = \"anthropic.claude-3-haiku-20240307-v1:0\"\n",
    "\n",
    "    # Read and update the prompt with the job_id\n",
    "    with open('prompt.txt', 'r') as file:\n",
    "        prompt = file.read().replace(\"$$ID$$\", 'job_id').replace(\"$$VALUE$$\", job_id)\n",
    "    \n",
    "    # print(prompt)\n",
    "    # Initialize the BedrockChat LLM using LangChain's BedrockChat class\n",
    "    llm = BedrockChat(\n",
    "        client=client,          # boto3 Bedrock client\n",
    "        model_id=model_id,      # Model to use (e.g., Anthropic Claude v3)       # Max tokens for the response\n",
    "    )\n",
    "\n",
    "    # Set up the prompt template\n",
    "    prompt_template = PromptTemplate(\n",
    "        template=prompt,\n",
    "        input_variables=[\"context\", \"question\"]\n",
    "    )\n",
    "    # print(prompt_template)\n",
    "    # Set up the retrieval chain with the language model and database retriever\n",
    "    return RetrievalQA.from_chain_type(\n",
    "        llm=llm,\n",
    "        chain_type=\"stuff\",\n",
    "        chain_type_kwargs={\"prompt\": prompt_template},\n",
    "        retriever=db.as_retriever(search_type=\"mmr\", search_kwargs={'k': 9, 'lambda_mult': 0.5}),\n",
    "    )\n"
   ]
  },
  {
   "cell_type": "code",
   "execution_count": 343,
   "id": "cee4e12c-3c52-4144-a1ef-8aa3df984503",
   "metadata": {
    "tags": []
   },
   "outputs": [],
   "source": [
    "qstn = \"\"\"\n",
    "1.What is the percentage of jobs having quantity 1 during the period 2023.\n",
    "2.What was the revenue by customer during the periods of Q1-2023.\n",
    "3.What was the Revenue By License Program during the periods of Q1-2023.\n",
    "4.What are the Top 5 Parts Shipped in period 2023-24?\n",
    "5.What was the Revenue by Customer for Military during the period 2023\n",
    "6.What was the Calibration Jobs By Customer during the period 2023  with Part number and description\n",
    "7.what was the Revenue for tire cage Parts during the period 2023 to 2024 with part and description\n",
    "8.What was the revenue by customer for market commercial during the period 2023?\n",
    "9.What was the Revenue by Sales Partner during the periods of Q1-2023 with number of quotes\n",
    "10.What was the Revenue by Value Stream during the period Q1-2023?\n",
    "11.What was the Revenue by Value Stream during the period Q1-2022?\n",
    "12.What is the percentage of jobs having quantity less than 6 during the period 2023\n",
    "13.How many parts with descriptions containing 'tire' or 'cage' were produced in work orders and shipped in 2023?\n",
    "\"\"\""
   ]
  },
  {
   "cell_type": "code",
   "execution_count": 344,
   "id": "1ea67d7a-1b21-4a7e-aa3e-38fb55d4d91b",
   "metadata": {
    "tags": []
   },
   "outputs": [],
   "source": [
    "import re\n",
    "import json\n",
    "from QST import qstn\n",
    "\n",
    "question = \"How many parts with descriptions containing 'tire' or 'cage' were produced in work orders and shipped in 2023?\"\n",
    "job_id = \"0fee44ac-bd4b-4217-a64d-a7dc33e00186\"\n",
    "\n",
    "chain1 = create_chain(db1, question, job_id)"
   ]
  },
  {
   "cell_type": "code",
   "execution_count": 345,
   "id": "62d27171-8ea0-4b31-8ba3-4125327862b6",
   "metadata": {
    "tags": []
   },
   "outputs": [
    {
     "name": "stdout",
     "output_type": "stream",
     "text": [
      "CPU times: user 87.3 ms, sys: 55.1 ms, total: 142 ms\n",
      "Wall time: 4.56 s\n"
     ]
    }
   ],
   "source": [
    "%%time\n",
    "\n",
    "import re\n",
    "response = chain1.invoke(question)\n",
    "result = response['result']\n",
    "# print(result)"
   ]
  },
  {
   "cell_type": "code",
   "execution_count": 346,
   "id": "a28127a1-81e5-414a-8c6f-052e6a6b5e24",
   "metadata": {
    "tags": []
   },
   "outputs": [
    {
     "name": "stdout",
     "output_type": "stream",
     "text": [
      "%%oc\n",
      " MATCH (wo:`Work Order`)-[:`produces`]-(p:`Part`)\n",
      "WHERE wo.`ship_date` >= datetime('2023-01-01T00:00:00') AND wo.`ship_date` < datetime('2024-01-01T00:00:00')\n",
      "  AND (toLower(p.`part_description`) CONTAINS 'tire' OR toLower(p.`part_description`) CONTAINS 'cage')\n",
      "  AND wo.job_id = '0fee44ac-bd4b-4217-a64d-a7dc33e00186'\n",
      "RETURN count(*) AS `Parts with 'tire' or 'cage' in description`;\n"
     ]
    }
   ],
   "source": [
    "import re\n",
    "\n",
    "matches = re.findall(r'```cypher(.*?)```', response['result'], re.DOTALL)\n",
    "for query in matches:\n",
    "    print('%%oc\\n',query.strip())"
   ]
  },
  {
   "cell_type": "code",
   "execution_count": null,
   "id": "9c00658f-8eb0-4b5f-8f8e-ddcddf3cf767",
   "metadata": {},
   "outputs": [],
   "source": []
  },
  {
   "cell_type": "code",
   "execution_count": null,
   "id": "302a2ec6-0b4f-4b1e-b0ed-ab410ecdc5ec",
   "metadata": {},
   "outputs": [],
   "source": []
  }
 ],
 "metadata": {
  "kernelspec": {
   "display_name": "Python 3",
   "language": "python",
   "name": "python3"
  },
  "language_info": {
   "codemirror_mode": {
    "name": "ipython",
    "version": 3
   },
   "file_extension": ".py",
   "mimetype": "text/x-python",
   "name": "python",
   "nbconvert_exporter": "python",
   "pygments_lexer": "ipython3",
   "version": "3.10.8"
  }
 },
 "nbformat": 4,
 "nbformat_minor": 5
}
